{
  "nbformat": 4,
  "nbformat_minor": 0,
  "metadata": {
    "colab": {
      "private_outputs": true,
      "provenance": [],
      "toc_visible": true,
      "mount_file_id": "1gra1JLDmXB5ix3LMDD9KtfFkQIMGhXSr",
      "authorship_tag": "ABX9TyOP56MF6wfoOEGYkGkHRNj2",
      "include_colab_link": true
    },
    "kernelspec": {
      "name": "python3",
      "display_name": "Python 3"
    },
    "language_info": {
      "name": "python"
    }
  },
  "cells": [
    {
      "cell_type": "markdown",
      "metadata": {
        "id": "view-in-github",
        "colab_type": "text"
      },
      "source": [
        "<a href=\"https://colab.research.google.com/github/JoseRicardo-dev/Projects-and-Codes/blob/main/Vacinas_do_Covid_19_por_fabricantes.ipynb\" target=\"_parent\"><img src=\"https://colab.research.google.com/assets/colab-badge.svg\" alt=\"Open In Colab\"/></a>"
      ]
    },
    {
      "cell_type": "code",
      "execution_count": null,
      "metadata": {
        "id": "6pXv2-opa2OL"
      },
      "outputs": [],
      "source": [
        "import pandas as pd"
      ]
    },
    {
      "cell_type": "code",
      "source": [
        "dados = pd.read_csv('/country_vaccinations_by_manufacturer.csv')"
      ],
      "metadata": {
        "id": "V4TQdEYzbHxr"
      },
      "execution_count": null,
      "outputs": []
    },
    {
      "cell_type": "code",
      "source": [
        "display(dados)"
      ],
      "metadata": {
        "id": "nV4D1JHZbH0_"
      },
      "execution_count": null,
      "outputs": []
    },
    {
      "cell_type": "code",
      "source": [
        "dados.head(15)"
      ],
      "metadata": {
        "id": "Eq8mL-xpbH4L"
      },
      "execution_count": null,
      "outputs": []
    },
    {
      "cell_type": "code",
      "source": [
        "dados.tail(15)"
      ],
      "metadata": {
        "id": "Ms_5gTjnb8GE"
      },
      "execution_count": null,
      "outputs": []
    },
    {
      "cell_type": "code",
      "source": [
        "dados.info()"
      ],
      "metadata": {
        "id": "ygCpJZAgb8Jt"
      },
      "execution_count": null,
      "outputs": []
    },
    {
      "cell_type": "code",
      "source": [
        "dados.describe()"
      ],
      "metadata": {
        "id": "_aZ5x6o_b8NH"
      },
      "execution_count": null,
      "outputs": []
    },
    {
      "cell_type": "code",
      "source": [
        "dados['location'].unique()"
      ],
      "metadata": {
        "id": "mWaAk7t3b8Qh"
      },
      "execution_count": null,
      "outputs": []
    },
    {
      "cell_type": "code",
      "source": [
        "dados['vaccine'].unique()"
      ],
      "metadata": {
        "id": "GGkstmNIb8Tr"
      },
      "execution_count": null,
      "outputs": []
    },
    {
      "cell_type": "code",
      "source": [
        "dados.groupby('location', )['total_vaccinations'].sum()"
      ],
      "metadata": {
        "id": "e1fMTljjb8Wu"
      },
      "execution_count": null,
      "outputs": []
    },
    {
      "cell_type": "code",
      "source": [
        "dados.groupby('vaccine' )['total_vaccinations'].sum()"
      ],
      "metadata": {
        "id": "ix5UFGgDeD9s"
      },
      "execution_count": null,
      "outputs": []
    },
    {
      "cell_type": "code",
      "source": [
        "#Insights de informação : Os Estados Unidos, foi o país que mais vacinou no mundo e Pfizer foi quem mais produziu vacinas na amostra de dados!"
      ],
      "metadata": {
        "id": "nI1sSt-VeEEm"
      },
      "execution_count": null,
      "outputs": []
    }
  ]
}