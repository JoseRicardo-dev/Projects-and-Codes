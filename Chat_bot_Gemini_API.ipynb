{
  "nbformat": 4,
  "nbformat_minor": 0,
  "metadata": {
    "colab": {
      "private_outputs": true,
      "provenance": [],
      "authorship_tag": "ABX9TyPHB51nG4SwpNNmbs6a0QzK",
      "include_colab_link": true
    },
    "kernelspec": {
      "name": "python3",
      "display_name": "Python 3"
    },
    "language_info": {
      "name": "python"
    }
  },
  "cells": [
    {
      "cell_type": "markdown",
      "metadata": {
        "id": "view-in-github",
        "colab_type": "text"
      },
      "source": [
        "<a href=\"https://colab.research.google.com/github/JoseRicardo-dev/Projects-and-Codes/blob/main/Chat_bot_Gemini_API.ipynb\" target=\"_parent\"><img src=\"https://colab.research.google.com/assets/colab-badge.svg\" alt=\"Open In Colab\"/></a>"
      ]
    },
    {
      "cell_type": "code",
      "execution_count": null,
      "metadata": {
        "id": "3uRqjdj5_Jxm"
      },
      "outputs": [],
      "source": [
        "# Instalando o pacote Gemini usando -q (para uma instalação mais tranquila) e -U (para baixar uma versão mais atualizada)\n",
        "!pip install -q -U google-generativeai"
      ]
    },
    {
      "cell_type": "code",
      "source": [
        "#Importando a biblioteca do Gemini instalada usando o apelido Genai\n",
        "import google.generativeai as genai"
      ],
      "metadata": {
        "id": "y9dDkePl_4jh"
      },
      "execution_count": null,
      "outputs": []
    },
    {
      "cell_type": "code",
      "source": [
        "# adicionando a API_KEY do Gemini\n",
        "from google.colab import userdata\n",
        "\n",
        "GOOGLE_GEMINI_API_KEY = userdata.get(\"GOOGLE_GEMINI_API_KEY\")\n",
        "\n",
        "genai.configure(api_key=GOOGLE_GEMINI_API_KEY)"
      ],
      "metadata": {
        "id": "a0i3G-vg_4mG"
      },
      "execution_count": null,
      "outputs": []
    },
    {
      "cell_type": "code",
      "source": [
        "# Listando os modelos de IA Generativa para o projeto\n",
        "for m in genai.list_models():\n",
        "    if 'generateContent' in m.supported_generation_methods:\n",
        "        print(m.name)\n",
        "\n",
        ""
      ],
      "metadata": {
        "id": "DNNMsKWg_4o6"
      },
      "execution_count": null,
      "outputs": []
    },
    {
      "cell_type": "code",
      "source": [
        "#Selecionado o modelo\n",
        "model = genai.GenerativeModel(\"models/gemini-1.5-flash-latest\")\n"
      ],
      "metadata": {
        "id": "gi4Amuyy_4rp"
      },
      "execution_count": null,
      "outputs": []
    },
    {
      "cell_type": "code",
      "source": [
        "#Testando a responsividade do Modelo\n",
        "response = model.generate_content(\"Quem é o CEO do Google?\")\n",
        "response.text"
      ],
      "metadata": {
        "id": "-kW63co__4ui"
      },
      "execution_count": null,
      "outputs": []
    },
    {
      "cell_type": "code",
      "source": [
        "#Criando o chat\n",
        "\n",
        "chat = model.start_chat(history=[])\n",
        "\n",
        "prompt = input(\"Digite sua pergunta: \")\n",
        "\n",
        "while prompt != \"fim\":\n",
        "    response = chat.send_message(prompt)\n",
        "    print(response.text)\n",
        "    prompt = input(\"Digite sua pergunta: \")\n",
        "\n"
      ],
      "metadata": {
        "id": "RPPnynbD_4xv"
      },
      "execution_count": null,
      "outputs": []
    },
    {
      "cell_type": "code",
      "source": [],
      "metadata": {
        "id": "Picx9d5I_40v"
      },
      "execution_count": null,
      "outputs": []
    }
  ]
}